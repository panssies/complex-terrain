{
 "cells": [
  {
   "cell_type": "code",
   "execution_count": 1,
   "metadata": {},
   "outputs": [
    {
     "ename": "SyntaxError",
     "evalue": "invalid syntax (<ipython-input-1-c75d43f3af4c>, line 1)",
     "output_type": "error",
     "traceback": [
      "\u001b[0;36m  File \u001b[0;32m\"<ipython-input-1-c75d43f3af4c>\"\u001b[0;36m, line \u001b[0;32m1\u001b[0m\n\u001b[0;31m    pip install pandas\u001b[0m\n\u001b[0m              ^\u001b[0m\n\u001b[0;31mSyntaxError\u001b[0m\u001b[0;31m:\u001b[0m invalid syntax\n"
     ]
    }
   ],
   "source": [
    "%%capture\n",
    "pip install pandas \n",
    "pip install geopandas \n",
    "pip install requests "
   ]
  },
  {
   "cell_type": "code",
   "execution_count": 1,
   "metadata": {},
   "outputs": [
    {
     "name": "stderr",
     "output_type": "stream",
     "text": [
      "/opt/anaconda3/lib/python3.7/site-packages/geopandas/_compat.py:115: UserWarning: The Shapely GEOS version (3.11.1-CAPI-1.17.1) is incompatible with the GEOS version PyGEOS was compiled with (3.10.4-CAPI-1.16.2). Conversions between both will be slow.\n",
      "  shapely_geos_version, geos_capi_version_string\n"
     ]
    }
   ],
   "source": [
    "import rasterio\n",
    "from rasterio.mask import mask\n",
    "import geopandas as gpd\n",
    "import pandas as pd\n",
    "import numpy as np\n",
    "from PIL import Image\n",
    "from tqdm import tqdm"
   ]
  },
  {
   "cell_type": "code",
   "execution_count": 2,
   "metadata": {},
   "outputs": [
    {
     "data": {
      "text/html": [
       "<div>\n",
       "<style scoped>\n",
       "    .dataframe tbody tr th:only-of-type {\n",
       "        vertical-align: middle;\n",
       "    }\n",
       "\n",
       "    .dataframe tbody tr th {\n",
       "        vertical-align: top;\n",
       "    }\n",
       "\n",
       "    .dataframe thead th {\n",
       "        text-align: right;\n",
       "    }\n",
       "</style>\n",
       "<table border=\"1\" class=\"dataframe\">\n",
       "  <thead>\n",
       "    <tr style=\"text-align: right;\">\n",
       "      <th></th>\n",
       "      <th>DN</th>\n",
       "      <th>id</th>\n",
       "      <th>geometry</th>\n",
       "    </tr>\n",
       "  </thead>\n",
       "  <tbody>\n",
       "    <tr>\n",
       "      <th>0</th>\n",
       "      <td>684</td>\n",
       "      <td>1</td>\n",
       "      <td>MULTIPOLYGON (((42.97965 44.12672, 42.97962 44...</td>\n",
       "    </tr>\n",
       "    <tr>\n",
       "      <th>1</th>\n",
       "      <td>685</td>\n",
       "      <td>2</td>\n",
       "      <td>MULTIPOLYGON (((42.98007 44.12672, 42.98004 44...</td>\n",
       "    </tr>\n",
       "    <tr>\n",
       "      <th>2</th>\n",
       "      <td>686</td>\n",
       "      <td>3</td>\n",
       "      <td>MULTIPOLYGON (((42.98035 44.12672, 42.98032 44...</td>\n",
       "    </tr>\n",
       "    <tr>\n",
       "      <th>3</th>\n",
       "      <td>687</td>\n",
       "      <td>4</td>\n",
       "      <td>MULTIPOLYGON (((42.98062 44.12672, 42.98060 44...</td>\n",
       "    </tr>\n",
       "    <tr>\n",
       "      <th>4</th>\n",
       "      <td>686</td>\n",
       "      <td>5</td>\n",
       "      <td>MULTIPOLYGON (((42.98090 44.12672, 42.98087 44...</td>\n",
       "    </tr>\n",
       "  </tbody>\n",
       "</table>\n",
       "</div>"
      ],
      "text/plain": [
       "    DN  id                                           geometry\n",
       "0  684   1  MULTIPOLYGON (((42.97965 44.12672, 42.97962 44...\n",
       "1  685   2  MULTIPOLYGON (((42.98007 44.12672, 42.98004 44...\n",
       "2  686   3  MULTIPOLYGON (((42.98035 44.12672, 42.98032 44...\n",
       "3  687   4  MULTIPOLYGON (((42.98062 44.12672, 42.98060 44...\n",
       "4  686   5  MULTIPOLYGON (((42.98090 44.12672, 42.98087 44..."
      ]
     },
     "execution_count": 2,
     "metadata": {},
     "output_type": "execute_result"
    }
   ],
   "source": [
    "shp_100 = gpd.read_file(\"/Users/panssies/Desktop/diplom/practice/lermontov/buf_100.gpkg\", encoding='latin1')\n",
    "shp_250 = gpd.read_file(\"/Users/panssies/Desktop/diplom/practice/lermontov/buf_250.gpkg\", encoding='latin1')\n",
    "shp_250.head()"
   ]
  },
  {
   "cell_type": "code",
   "execution_count": 3,
   "metadata": {},
   "outputs": [
    {
     "data": {
      "text/html": [
       "<div>\n",
       "<style scoped>\n",
       "    .dataframe tbody tr th:only-of-type {\n",
       "        vertical-align: middle;\n",
       "    }\n",
       "\n",
       "    .dataframe tbody tr th {\n",
       "        vertical-align: top;\n",
       "    }\n",
       "\n",
       "    .dataframe thead th {\n",
       "        text-align: right;\n",
       "    }\n",
       "</style>\n",
       "<table border=\"1\" class=\"dataframe\">\n",
       "  <thead>\n",
       "    <tr style=\"text-align: right;\">\n",
       "      <th></th>\n",
       "      <th>DN</th>\n",
       "      <th>id</th>\n",
       "    </tr>\n",
       "  </thead>\n",
       "  <tbody>\n",
       "    <tr>\n",
       "      <th>count</th>\n",
       "      <td>32915.000000</td>\n",
       "      <td>32915.000000</td>\n",
       "    </tr>\n",
       "    <tr>\n",
       "      <th>mean</th>\n",
       "      <td>814.063649</td>\n",
       "      <td>16458.000000</td>\n",
       "    </tr>\n",
       "    <tr>\n",
       "      <th>std</th>\n",
       "      <td>159.172976</td>\n",
       "      <td>9501.886392</td>\n",
       "    </tr>\n",
       "    <tr>\n",
       "      <th>min</th>\n",
       "      <td>598.000000</td>\n",
       "      <td>1.000000</td>\n",
       "    </tr>\n",
       "    <tr>\n",
       "      <th>25%</th>\n",
       "      <td>683.000000</td>\n",
       "      <td>8229.500000</td>\n",
       "    </tr>\n",
       "    <tr>\n",
       "      <th>50%</th>\n",
       "      <td>767.000000</td>\n",
       "      <td>16458.000000</td>\n",
       "    </tr>\n",
       "    <tr>\n",
       "      <th>75%</th>\n",
       "      <td>910.000000</td>\n",
       "      <td>24686.500000</td>\n",
       "    </tr>\n",
       "    <tr>\n",
       "      <th>max</th>\n",
       "      <td>1385.000000</td>\n",
       "      <td>32915.000000</td>\n",
       "    </tr>\n",
       "  </tbody>\n",
       "</table>\n",
       "</div>"
      ],
      "text/plain": [
       "                 DN            id\n",
       "count  32915.000000  32915.000000\n",
       "mean     814.063649  16458.000000\n",
       "std      159.172976   9501.886392\n",
       "min      598.000000      1.000000\n",
       "25%      683.000000   8229.500000\n",
       "50%      767.000000  16458.000000\n",
       "75%      910.000000  24686.500000\n",
       "max     1385.000000  32915.000000"
      ]
     },
     "execution_count": 3,
     "metadata": {},
     "output_type": "execute_result"
    }
   ],
   "source": [
    "shp_100.describe()"
   ]
  },
  {
   "cell_type": "code",
   "execution_count": 4,
   "metadata": {},
   "outputs": [
    {
     "data": {
      "text/html": [
       "<div>\n",
       "<style scoped>\n",
       "    .dataframe tbody tr th:only-of-type {\n",
       "        vertical-align: middle;\n",
       "    }\n",
       "\n",
       "    .dataframe tbody tr th {\n",
       "        vertical-align: top;\n",
       "    }\n",
       "\n",
       "    .dataframe thead th {\n",
       "        text-align: right;\n",
       "    }\n",
       "</style>\n",
       "<table border=\"1\" class=\"dataframe\">\n",
       "  <thead>\n",
       "    <tr style=\"text-align: right;\">\n",
       "      <th></th>\n",
       "      <th>DN</th>\n",
       "      <th>id</th>\n",
       "    </tr>\n",
       "  </thead>\n",
       "  <tbody>\n",
       "    <tr>\n",
       "      <th>count</th>\n",
       "      <td>32915.000000</td>\n",
       "      <td>32915.000000</td>\n",
       "    </tr>\n",
       "    <tr>\n",
       "      <th>mean</th>\n",
       "      <td>814.063649</td>\n",
       "      <td>16458.000000</td>\n",
       "    </tr>\n",
       "    <tr>\n",
       "      <th>std</th>\n",
       "      <td>159.172976</td>\n",
       "      <td>9501.886392</td>\n",
       "    </tr>\n",
       "    <tr>\n",
       "      <th>min</th>\n",
       "      <td>598.000000</td>\n",
       "      <td>1.000000</td>\n",
       "    </tr>\n",
       "    <tr>\n",
       "      <th>25%</th>\n",
       "      <td>683.000000</td>\n",
       "      <td>8229.500000</td>\n",
       "    </tr>\n",
       "    <tr>\n",
       "      <th>50%</th>\n",
       "      <td>767.000000</td>\n",
       "      <td>16458.000000</td>\n",
       "    </tr>\n",
       "    <tr>\n",
       "      <th>75%</th>\n",
       "      <td>910.000000</td>\n",
       "      <td>24686.500000</td>\n",
       "    </tr>\n",
       "    <tr>\n",
       "      <th>max</th>\n",
       "      <td>1385.000000</td>\n",
       "      <td>32915.000000</td>\n",
       "    </tr>\n",
       "  </tbody>\n",
       "</table>\n",
       "</div>"
      ],
      "text/plain": [
       "                 DN            id\n",
       "count  32915.000000  32915.000000\n",
       "mean     814.063649  16458.000000\n",
       "std      159.172976   9501.886392\n",
       "min      598.000000      1.000000\n",
       "25%      683.000000   8229.500000\n",
       "50%      767.000000  16458.000000\n",
       "75%      910.000000  24686.500000\n",
       "max     1385.000000  32915.000000"
      ]
     },
     "execution_count": 4,
     "metadata": {},
     "output_type": "execute_result"
    }
   ],
   "source": [
    "shp_250.describe()"
   ]
  },
  {
   "cell_type": "code",
   "execution_count": 5,
   "metadata": {},
   "outputs": [],
   "source": [
    "# extract the geometry in GeoJSON format\n",
    "geoms_100 = shp_100.geometry.values # list of shapely geometries\n",
    "geoms_250 = shp_250.geometry.values"
   ]
  },
  {
   "cell_type": "code",
   "execution_count": 6,
   "metadata": {},
   "outputs": [],
   "source": [
    "# transform to GeJSON format\n",
    "from shapely.geometry import mapping\n",
    "geoms_100 = [mapping(elem) for elem in geoms_100 if elem is not None]\n",
    "geoms_250 = [mapping(elem) for elem in geoms_250 if elem is not None]\n",
    "#geoms = res_geom\n",
    "res_geoms_100 = []\n",
    "res_geoms_250 = []"
   ]
  },
  {
   "cell_type": "code",
   "execution_count": 7,
   "metadata": {},
   "outputs": [
    {
     "name": "stderr",
     "output_type": "stream",
     "text": [
      "32915it [00:11, 2978.01it/s]\n"
     ]
    },
    {
     "name": "stdout",
     "output_type": "stream",
     "text": [
      "        DN     id                                           geometry  \\\n",
      "0      684      1  MULTIPOLYGON (((42.97778 44.12669, 42.97777 44...   \n",
      "1      685      2  MULTIPOLYGON (((42.97819 44.12669, 42.97818 44...   \n",
      "2      686      3  MULTIPOLYGON (((42.97847 44.12669, 42.97846 44...   \n",
      "3      687      4  MULTIPOLYGON (((42.97875 44.12669, 42.97874 44...   \n",
      "4      686      5  MULTIPOLYGON (((42.97903 44.12669, 42.97902 44...   \n",
      "...    ...    ...                                                ...   \n",
      "32910  656  32911  MULTIPOLYGON (((43.02153 44.06974, 43.02152 44...   \n",
      "32911  653  32912  MULTIPOLYGON (((43.02180 44.06974, 43.02179 44...   \n",
      "32912  651  32913  MULTIPOLYGON (((43.02208 44.06974, 43.02207 44...   \n",
      "32913  650  32914  MULTIPOLYGON (((43.02236 44.06974, 43.02235 44...   \n",
      "32914  649  32915  MULTIPOLYGON (((43.02264 44.06974, 43.02263 44...   \n",
      "\n",
      "       heights_diff  dispersion  median  \n",
      "0              15.0   22.806400   690.0  \n",
      "1              15.0   21.715976   689.0  \n",
      "2              19.0   23.862826   689.0  \n",
      "3              21.0   25.775510   688.5  \n",
      "4              21.0   26.622449   687.0  \n",
      "...             ...         ...     ...  \n",
      "32910          22.0   36.236686   659.0  \n",
      "32911          20.0   28.331361   657.0  \n",
      "32912          17.0   20.880000   656.0  \n",
      "32913          13.0   13.504726   654.0  \n",
      "32914          10.0    8.527500   653.5  \n",
      "\n",
      "[32915 rows x 6 columns]\n"
     ]
    }
   ],
   "source": [
    "shp_100[\"heights_diff\"] = np.nan\n",
    "with rasterio.open(\"/Users/panssies/Desktop/diplom/practice/lermontov/DEM_lermontov_30m.tif\") as src:\n",
    "    for index, cur_geom in tqdm(enumerate(geoms_100)):\n",
    "        out_image_100, out_transform = mask(src, [cur_geom], crop=True)\n",
    "        out_image_100 = out_image_100[0]\n",
    "        tmp_need_100 = out_image_100[np.where(~np.isclose(out_image_100, np.min(out_image_100)))]\n",
    "        shp_100.at[index, 'dispersion'] = np.var(tmp_need_100)\n",
    "        if len(tmp_need_100) > 0:\n",
    "            shp_100.at[index, 'heights_diff'] = np.max(tmp_need_100) - np.min(tmp_need_100)\n",
    "        else:\n",
    "            shp_100.at[index, 'heights_diff'] = 0\n",
    "        shp_100.at[index, 'median'] = np.median((tmp_need_100))\n",
    "    print(shp_100)\n",
    "    \n",
    "    "
   ]
  },
  {
   "cell_type": "code",
   "execution_count": 8,
   "metadata": {},
   "outputs": [
    {
     "data": {
      "text/html": [
       "<div>\n",
       "<style scoped>\n",
       "    .dataframe tbody tr th:only-of-type {\n",
       "        vertical-align: middle;\n",
       "    }\n",
       "\n",
       "    .dataframe tbody tr th {\n",
       "        vertical-align: top;\n",
       "    }\n",
       "\n",
       "    .dataframe thead th {\n",
       "        text-align: right;\n",
       "    }\n",
       "</style>\n",
       "<table border=\"1\" class=\"dataframe\">\n",
       "  <thead>\n",
       "    <tr style=\"text-align: right;\">\n",
       "      <th></th>\n",
       "      <th>DN</th>\n",
       "      <th>id</th>\n",
       "      <th>geometry</th>\n",
       "    </tr>\n",
       "  </thead>\n",
       "  <tbody>\n",
       "    <tr>\n",
       "      <th>0</th>\n",
       "      <td>684</td>\n",
       "      <td>1</td>\n",
       "      <td>MULTIPOLYGON (((42.97965 44.12672, 42.97962 44...</td>\n",
       "    </tr>\n",
       "    <tr>\n",
       "      <th>1</th>\n",
       "      <td>685</td>\n",
       "      <td>2</td>\n",
       "      <td>MULTIPOLYGON (((42.98007 44.12672, 42.98004 44...</td>\n",
       "    </tr>\n",
       "    <tr>\n",
       "      <th>2</th>\n",
       "      <td>686</td>\n",
       "      <td>3</td>\n",
       "      <td>MULTIPOLYGON (((42.98035 44.12672, 42.98032 44...</td>\n",
       "    </tr>\n",
       "    <tr>\n",
       "      <th>3</th>\n",
       "      <td>687</td>\n",
       "      <td>4</td>\n",
       "      <td>MULTIPOLYGON (((42.98062 44.12672, 42.98060 44...</td>\n",
       "    </tr>\n",
       "    <tr>\n",
       "      <th>4</th>\n",
       "      <td>686</td>\n",
       "      <td>5</td>\n",
       "      <td>MULTIPOLYGON (((42.98090 44.12672, 42.98087 44...</td>\n",
       "    </tr>\n",
       "  </tbody>\n",
       "</table>\n",
       "</div>"
      ],
      "text/plain": [
       "    DN  id                                           geometry\n",
       "0  684   1  MULTIPOLYGON (((42.97965 44.12672, 42.97962 44...\n",
       "1  685   2  MULTIPOLYGON (((42.98007 44.12672, 42.98004 44...\n",
       "2  686   3  MULTIPOLYGON (((42.98035 44.12672, 42.98032 44...\n",
       "3  687   4  MULTIPOLYGON (((42.98062 44.12672, 42.98060 44...\n",
       "4  686   5  MULTIPOLYGON (((42.98090 44.12672, 42.98087 44..."
      ]
     },
     "execution_count": 8,
     "metadata": {},
     "output_type": "execute_result"
    }
   ],
   "source": [
    "shp_250.head()"
   ]
  },
  {
   "cell_type": "code",
   "execution_count": 9,
   "metadata": {},
   "outputs": [
    {
     "name": "stderr",
     "output_type": "stream",
     "text": [
      "32915it [00:11, 2930.30it/s]\n"
     ]
    },
    {
     "name": "stdout",
     "output_type": "stream",
     "text": [
      "        DN     id                                           geometry  \\\n",
      "0      684      1  MULTIPOLYGON (((42.97965 44.12672, 42.97962 44...   \n",
      "1      685      2  MULTIPOLYGON (((42.98007 44.12672, 42.98004 44...   \n",
      "2      686      3  MULTIPOLYGON (((42.98035 44.12672, 42.98032 44...   \n",
      "3      687      4  MULTIPOLYGON (((42.98062 44.12672, 42.98060 44...   \n",
      "4      686      5  MULTIPOLYGON (((42.98090 44.12672, 42.98087 44...   \n",
      "...    ...    ...                                                ...   \n",
      "32910  656  32911  MULTIPOLYGON (((43.02340 44.06978, 43.02337 44...   \n",
      "32911  653  32912  MULTIPOLYGON (((43.02368 44.06978, 43.02365 44...   \n",
      "32912  651  32913  MULTIPOLYGON (((43.02395 44.06978, 43.02393 44...   \n",
      "32913  650  32914  MULTIPOLYGON (((43.02423 44.06978, 43.02420 44...   \n",
      "32914  649  32915  MULTIPOLYGON (((43.02451 44.06978, 43.02448 44...   \n",
      "\n",
      "       heights_diff  dispersion  median  \n",
      "0              28.0   52.636705   698.5  \n",
      "1              28.0   54.914304   697.0  \n",
      "2              28.0   55.496790   695.0  \n",
      "3              28.0   56.039407   695.0  \n",
      "4              28.0   56.553751   694.0  \n",
      "...             ...         ...     ...  \n",
      "32910          50.0  137.733056   666.0  \n",
      "32911          48.0  109.965520   666.0  \n",
      "32912          43.0   88.487744   666.0  \n",
      "32913          42.0   73.887552   666.0  \n",
      "32914          37.0   58.893769   665.0  \n",
      "\n",
      "[32915 rows x 6 columns]\n"
     ]
    }
   ],
   "source": [
    "shp_250[\"heights_diff\"] = np.nan\n",
    "with rasterio.open(\"/Users/panssies/Desktop/diplom/practice/lermontov/DEM_lermontov_30m.tif\") as src:\n",
    "    for index, cur_geom in tqdm(enumerate(geoms_250)):\n",
    "        out_image_250, out_transform = mask(src, [cur_geom], crop=True)\n",
    "        out_image_250 = out_image_250[0]\n",
    "        tmp_need_250 = out_image_250[np.where(~np.isclose(out_image_250, np.min(out_image_250)))]\n",
    "        shp_250.at[index, 'dispersion'] = np.var(tmp_need_250)\n",
    "        if len(tmp_need_250) > 0:\n",
    "            shp_250.at[index, 'heights_diff'] = np.max(tmp_need_250) - np.min(tmp_need_250)\n",
    "        else:\n",
    "            shp_250.at[index, 'heights_diff'] = 0\n",
    "        shp_250.at[index, 'median'] = np.median((tmp_need_250))\n",
    "    print(shp_250)"
   ]
  },
  {
   "cell_type": "code",
   "execution_count": 10,
   "metadata": {},
   "outputs": [
    {
     "data": {
      "text/html": [
       "<div>\n",
       "<style scoped>\n",
       "    .dataframe tbody tr th:only-of-type {\n",
       "        vertical-align: middle;\n",
       "    }\n",
       "\n",
       "    .dataframe tbody tr th {\n",
       "        vertical-align: top;\n",
       "    }\n",
       "\n",
       "    .dataframe thead th {\n",
       "        text-align: right;\n",
       "    }\n",
       "</style>\n",
       "<table border=\"1\" class=\"dataframe\">\n",
       "  <thead>\n",
       "    <tr style=\"text-align: right;\">\n",
       "      <th></th>\n",
       "      <th>DN</th>\n",
       "      <th>id</th>\n",
       "      <th>geometry</th>\n",
       "      <th>heights_diff</th>\n",
       "      <th>dispersion</th>\n",
       "      <th>median</th>\n",
       "    </tr>\n",
       "  </thead>\n",
       "  <tbody>\n",
       "    <tr>\n",
       "      <th>0</th>\n",
       "      <td>684</td>\n",
       "      <td>1</td>\n",
       "      <td>MULTIPOLYGON (((42.97965 44.12672, 42.97962 44...</td>\n",
       "      <td>28.0</td>\n",
       "      <td>52.636705</td>\n",
       "      <td>698.5</td>\n",
       "    </tr>\n",
       "    <tr>\n",
       "      <th>1</th>\n",
       "      <td>685</td>\n",
       "      <td>2</td>\n",
       "      <td>MULTIPOLYGON (((42.98007 44.12672, 42.98004 44...</td>\n",
       "      <td>28.0</td>\n",
       "      <td>54.914304</td>\n",
       "      <td>697.0</td>\n",
       "    </tr>\n",
       "    <tr>\n",
       "      <th>2</th>\n",
       "      <td>686</td>\n",
       "      <td>3</td>\n",
       "      <td>MULTIPOLYGON (((42.98035 44.12672, 42.98032 44...</td>\n",
       "      <td>28.0</td>\n",
       "      <td>55.496790</td>\n",
       "      <td>695.0</td>\n",
       "    </tr>\n",
       "    <tr>\n",
       "      <th>3</th>\n",
       "      <td>687</td>\n",
       "      <td>4</td>\n",
       "      <td>MULTIPOLYGON (((42.98062 44.12672, 42.98060 44...</td>\n",
       "      <td>28.0</td>\n",
       "      <td>56.039407</td>\n",
       "      <td>695.0</td>\n",
       "    </tr>\n",
       "    <tr>\n",
       "      <th>4</th>\n",
       "      <td>686</td>\n",
       "      <td>5</td>\n",
       "      <td>MULTIPOLYGON (((42.98090 44.12672, 42.98087 44...</td>\n",
       "      <td>28.0</td>\n",
       "      <td>56.553751</td>\n",
       "      <td>694.0</td>\n",
       "    </tr>\n",
       "  </tbody>\n",
       "</table>\n",
       "</div>"
      ],
      "text/plain": [
       "    DN  id                                           geometry  heights_diff  \\\n",
       "0  684   1  MULTIPOLYGON (((42.97965 44.12672, 42.97962 44...          28.0   \n",
       "1  685   2  MULTIPOLYGON (((42.98007 44.12672, 42.98004 44...          28.0   \n",
       "2  686   3  MULTIPOLYGON (((42.98035 44.12672, 42.98032 44...          28.0   \n",
       "3  687   4  MULTIPOLYGON (((42.98062 44.12672, 42.98060 44...          28.0   \n",
       "4  686   5  MULTIPOLYGON (((42.98090 44.12672, 42.98087 44...          28.0   \n",
       "\n",
       "   dispersion  median  \n",
       "0   52.636705   698.5  \n",
       "1   54.914304   697.0  \n",
       "2   55.496790   695.0  \n",
       "3   56.039407   695.0  \n",
       "4   56.553751   694.0  "
      ]
     },
     "execution_count": 10,
     "metadata": {},
     "output_type": "execute_result"
    }
   ],
   "source": [
    "shp_250.head()"
   ]
  },
  {
   "cell_type": "code",
   "execution_count": 135,
   "metadata": {},
   "outputs": [
    {
     "name": "stderr",
     "output_type": "stream",
     "text": [
      "/opt/anaconda3/lib/python3.7/site-packages/ipykernel_launcher.py:1: UserWarning: Column names longer than 10 characters will be truncated when saved to ESRI Shapefile.\n",
      "  \"\"\"Entry point for launching an IPython kernel.\n",
      "/opt/anaconda3/lib/python3.7/site-packages/ipykernel_launcher.py:3: UserWarning: Column names longer than 10 characters will be truncated when saved to ESRI Shapefile.\n",
      "  This is separate from the ipykernel package so we can avoid doing imports until\n"
     ]
    }
   ],
   "source": [
    "shp_100.to_file(\"/Users/panssies/Desktop/diplom/practice/lermontov/result100.shp\")\n",
    "shp_250.to_file(\"/Users/panssies/Desktop/diplom/practice/lermontov/result250.shp\")"
   ]
  }
 ],
 "metadata": {
  "kernelspec": {
   "display_name": "base",
   "language": "python",
   "name": "python3"
  },
  "language_info": {
   "codemirror_mode": {
    "name": "ipython",
    "version": 3
   },
   "file_extension": ".py",
   "mimetype": "text/x-python",
   "name": "python",
   "nbconvert_exporter": "python",
   "pygments_lexer": "ipython3",
   "version": "3.7.4"
  },
  "orig_nbformat": 4,
  "vscode": {
   "interpreter": {
    "hash": "40d3a090f54c6569ab1632332b64b2c03c39dcf918b08424e98f38b5ae0af88f"
   }
  }
 },
 "nbformat": 4,
 "nbformat_minor": 2
}
